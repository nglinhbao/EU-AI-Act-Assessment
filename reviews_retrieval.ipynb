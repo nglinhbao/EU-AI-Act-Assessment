{
  "nbformat": 4,
  "nbformat_minor": 0,
  "metadata": {
    "colab": {
      "provenance": []
    },
    "kernelspec": {
      "name": "python3",
      "display_name": "Python 3"
    },
    "language_info": {
      "name": "python"
    }
  },
  "cells": [
    {
      "cell_type": "markdown",
      "source": [
        "Installing dependencies"
      ],
      "metadata": {
        "id": "XsmvPj1Gs0yt"
      }
    },
    {
      "cell_type": "code",
      "execution_count": null,
      "metadata": {
        "colab": {
          "base_uri": "https://localhost:8080/"
        },
        "id": "vY13ZdvGq69p",
        "outputId": "16941bea-4189-4570-c226-fc9ae921316b"
      },
      "outputs": [
        {
          "output_type": "stream",
          "name": "stdout",
          "text": [
            "Collecting google-play-scraper\n",
            "  Downloading google_play_scraper-1.2.7-py3-none-any.whl.metadata (50 kB)\n",
            "\u001b[2K     \u001b[90m━━━━━━━━━━━━━━━━━━━━━━━━━━━━━━━━━━━━━━━━\u001b[0m \u001b[32m50.2/50.2 kB\u001b[0m \u001b[31m1.0 MB/s\u001b[0m eta \u001b[36m0:00:00\u001b[0m\n",
            "\u001b[?25hDownloading google_play_scraper-1.2.7-py3-none-any.whl (28 kB)\n",
            "Installing collected packages: google-play-scraper\n",
            "Successfully installed google-play-scraper-1.2.7\n"
          ]
        }
      ],
      "source": [
        "!pip install google-play-scraper"
      ]
    },
    {
      "cell_type": "markdown",
      "source": [
        "Importing libraries"
      ],
      "metadata": {
        "id": "bitI_m5Ys7ML"
      }
    },
    {
      "cell_type": "code",
      "source": [
        "from google_play_scraper import app, search, Sort, reviews\n",
        "import pandas as pd\n",
        "import time"
      ],
      "metadata": {
        "id": "oiMvcZOlsz_r"
      },
      "execution_count": null,
      "outputs": []
    },
    {
      "cell_type": "markdown",
      "source": [
        "Get the AI apps' IDs"
      ],
      "metadata": {
        "id": "Dl3aSsits8pi"
      }
    },
    {
      "cell_type": "code",
      "source": [
        "def search_ai_apps(query=\"AI\", n_results=10):\n",
        "    \"\"\"Search for AI apps on Google Play Store\"\"\"\n",
        "    print(f\"Searching for '{query}' apps...\")\n",
        "    search_results = search(\n",
        "        query,\n",
        "        lang=\"en\",\n",
        "        country=\"us\",\n",
        "        n_hits=n_results\n",
        "    )\n",
        "    return search_results"
      ],
      "metadata": {
        "id": "-_GQvAUirBWZ"
      },
      "execution_count": null,
      "outputs": []
    },
    {
      "cell_type": "markdown",
      "source": [
        "Get the reviews based on IDs"
      ],
      "metadata": {
        "id": "OMR0OYsktOHd"
      }
    },
    {
      "cell_type": "code",
      "source": [
        "def get_app_reviews(app_id, app_name, max_reviews=100):\n",
        "    \"\"\"Retrieve reviews for a specific app\"\"\"\n",
        "    print(f\"Fetching reviews for {app_name} ({app_id})...\")\n",
        "    try:\n",
        "        # Use reviews() instead of reviews_all() to limit the number of reviews\n",
        "        review_results, continuation_token = reviews(\n",
        "            app_id,\n",
        "            lang=\"en\",\n",
        "            country=\"us\",\n",
        "            sort=Sort.NEWEST,\n",
        "            count=max_reviews  # This limits the number of reviews\n",
        "        )\n",
        "\n",
        "        # Print the structure of the first review for debugging\n",
        "        if review_results:\n",
        "            print(f\"Review keys available: {list(review_results[0].keys())}\")\n",
        "\n",
        "        # Convert to a structured format with safer field access\n",
        "        review_data = []\n",
        "        for review in review_results:\n",
        "            review_item = {\n",
        "                'app_name': app_name,\n",
        "                'reviewer': review.get('userName', 'Unknown'),\n",
        "                'date': review.get('at', None),\n",
        "                'score': review.get('score', None),\n",
        "                'content': review.get('content', ''),\n",
        "                # Use get() with a default value for potentially missing keys\n",
        "                'thumbs_up': review.get('thumbsUp', 0)  # Default to 0 if missing\n",
        "            }\n",
        "            review_data.append(review_item)\n",
        "\n",
        "        return review_data\n",
        "    except Exception as e:\n",
        "        print(f\"Error retrieving reviews for {app_name}: {str(e)}\")\n",
        "        # Print a full traceback for debugging\n",
        "        import traceback\n",
        "        traceback.print_exc()\n",
        "        return []"
      ],
      "metadata": {
        "id": "quGFbEa3tNiC"
      },
      "execution_count": null,
      "outputs": []
    },
    {
      "cell_type": "markdown",
      "source": [
        "# Main workflow\n",
        "- Searches for AI assistant apps\n",
        "- Retrieves their details (developer, rating, and number of ratings)\n",
        "- Collects user reviews\n",
        "- Stores the reviews in a Pandas DataFrame\n",
        "- Saves them as a CSV file\n",
        "- Displays a sample of the collected reviews"
      ],
      "metadata": {
        "id": "Dnqbd3sOtReI"
      }
    },
    {
      "cell_type": "code",
      "source": [
        "# Search for AI apps\n",
        "ai_apps = search_ai_apps(query=\"AI\", n_results=10)\n",
        "\n",
        "all_reviews = []\n",
        "\n",
        "# Get reviews for each app\n",
        "for app_info in ai_apps:\n",
        "    app_id = app_info['appId']\n",
        "    app_name = app_info['title']\n",
        "\n",
        "    # Get app details to show more info\n",
        "    app_details = app(app_id)\n",
        "    print(f\"\\nApp: {app_name}\")\n",
        "    print(f\"Developer: {app_details['developer']}\")\n",
        "    print(f\"Rating: {app_details['score']} ({app_details['ratings']} ratings)\")\n",
        "\n",
        "    # Get reviews\n",
        "    app_reviews = get_app_reviews(app_id, app_name, max_reviews=100)\n",
        "    all_reviews.extend(app_reviews)\n",
        "\n",
        "    # Pause to avoid hitting rate limits\n",
        "    time.sleep(1)\n",
        "\n",
        "# Create a DataFrame and save to CSV\n",
        "if all_reviews:\n",
        "    df = pd.DataFrame(all_reviews)\n",
        "    csv_filename = \"ai_app_reviews.csv\"\n",
        "    df.to_csv(csv_filename, index=False)\n",
        "    print(f\"\\nSaved {len(all_reviews)} reviews to {csv_filename}\")\n",
        "\n",
        "    # Show sample of reviews\n",
        "    print(\"\\nSample reviews:\")\n",
        "    print(df[['app_name', 'score', 'content']].head(3))\n",
        "else:\n",
        "    print(\"No reviews were collected.\")"
      ],
      "metadata": {
        "colab": {
          "base_uri": "https://localhost:8080/"
        },
        "id": "4Z_1jIGgrDpB",
        "outputId": "1a79ac0b-e96f-4540-f016-a084c7a70c91"
      },
      "execution_count": null,
      "outputs": [
        {
          "output_type": "stream",
          "name": "stdout",
          "text": [
            "Searching for 'AI' apps...\n",
            "\n",
            "App: PolyBuzz:formerly Poly.AI\n",
            "Developer: CLOUD WHALE INTERACTIVE TECHNOLOGY LLC.\n",
            "Rating: 4.162272 (418286 ratings)\n",
            "Fetching reviews for PolyBuzz:formerly Poly.AI (ai.socialapps.speakmaster)...\n",
            "Review keys available: ['reviewId', 'userName', 'userImage', 'content', 'score', 'thumbsUpCount', 'reviewCreatedVersion', 'at', 'replyContent', 'repliedAt', 'appVersion']\n",
            "\n",
            "App: Talkie: Creative AI Community\n",
            "Developer: SUBSUP\n",
            "Rating: 4.556132 (500126 ratings)\n",
            "Fetching reviews for Talkie: Creative AI Community (com.weaver.app.prod)...\n",
            "Review keys available: ['reviewId', 'userName', 'userImage', 'content', 'score', 'thumbsUpCount', 'reviewCreatedVersion', 'at', 'replyContent', 'repliedAt', 'appVersion']\n",
            "\n",
            "App: Chai: Chat AI Platform\n",
            "Developer: Chai Research Corp.\n",
            "Rating: 4.2897487 (341084 ratings)\n",
            "Fetching reviews for Chai: Chat AI Platform (com.Beauchamp.Messenger.external)...\n",
            "Review keys available: ['reviewId', 'userName', 'userImage', 'content', 'score', 'thumbsUpCount', 'reviewCreatedVersion', 'at', 'replyContent', 'repliedAt', 'appVersion']\n",
            "\n",
            "App: ChatGPT\n",
            "Developer: OpenAI\n",
            "Rating: 4.7753267 (9721705 ratings)\n",
            "Fetching reviews for ChatGPT (com.openai.chatgpt)...\n",
            "Review keys available: ['reviewId', 'userName', 'userImage', 'content', 'score', 'thumbsUpCount', 'reviewCreatedVersion', 'at', 'replyContent', 'repliedAt', 'appVersion']\n",
            "\n",
            "App: Character AI: Chat, Talk, Text\n",
            "Developer: Character.AI\n",
            "Rating: 3.9284565 (1454297 ratings)\n",
            "Fetching reviews for Character AI: Chat, Talk, Text (ai.character.app)...\n",
            "Review keys available: ['reviewId', 'userName', 'userImage', 'content', 'score', 'thumbsUpCount', 'reviewCreatedVersion', 'at', 'replyContent', 'repliedAt', 'appVersion']\n",
            "\n",
            "App: BALA AI: Character AI Chat App\n",
            "Developer: Pallar Media Limited\n",
            "Rating: 4.477141 (22763 ratings)\n",
            "Fetching reviews for BALA AI: Character AI Chat App (com.bala.ai.android)...\n",
            "Review keys available: ['reviewId', 'userName', 'userImage', 'content', 'score', 'thumbsUpCount', 'reviewCreatedVersion', 'at', 'replyContent', 'repliedAt', 'appVersion']\n",
            "\n",
            "App: Google Gemini\n",
            "Developer: Google LLC\n",
            "Rating: 4.6409955 (4073411 ratings)\n",
            "Fetching reviews for Google Gemini (com.google.android.apps.bard)...\n",
            "Review keys available: ['reviewId', 'userName', 'userImage', 'content', 'score', 'thumbsUpCount', 'reviewCreatedVersion', 'at', 'replyContent', 'repliedAt', 'appVersion']\n",
            "\n",
            "App: Question.AI - Chatbot&Math AI\n",
            "Developer: D3 DIMENSION TECHNOLOGY PTE.LTD.\n",
            "Rating: 4.094946 (220144 ratings)\n",
            "Fetching reviews for Question.AI - Chatbot&Math AI (com.qianfan.aihomework)...\n",
            "Review keys available: ['reviewId', 'userName', 'userImage', 'content', 'score', 'thumbsUpCount', 'reviewCreatedVersion', 'at', 'replyContent', 'repliedAt', 'appVersion']\n",
            "\n",
            "App: Linky AI: Chat, Play, Connect\n",
            "Developer: Skywork AI Pte. Ltd.\n",
            "Rating: 4.0819535 (72310 ratings)\n",
            "Fetching reviews for Linky AI: Chat, Play, Connect (com.aigc.ushow.ichat)...\n",
            "Review keys available: ['reviewId', 'userName', 'userImage', 'content', 'score', 'thumbsUpCount', 'reviewCreatedVersion', 'at', 'replyContent', 'repliedAt', 'appVersion']\n",
            "\n",
            "App: Perplexity - Ask Anything\n",
            "Developer: PerplexityAI\n",
            "Rating: 4.714436 (527615 ratings)\n",
            "Fetching reviews for Perplexity - Ask Anything (ai.perplexity.app.android)...\n",
            "Review keys available: ['reviewId', 'userName', 'userImage', 'content', 'score', 'thumbsUpCount', 'reviewCreatedVersion', 'at', 'replyContent', 'repliedAt', 'appVersion']\n",
            "\n",
            "Saved 1000 reviews to ai_app_reviews.csv\n",
            "\n",
            "Sample reviews:\n",
            "                    app_name  score  \\\n",
            "0  PolyBuzz:formerly Poly.AI      5   \n",
            "1  PolyBuzz:formerly Poly.AI      1   \n",
            "2  PolyBuzz:formerly Poly.AI      4   \n",
            "\n",
            "                                             content  \n",
            "0  I think this app is a masterpiece they don't s...  \n",
            "1  I do not like this I want nothing like this on...  \n",
            "2  this app is so fun! and deffently do recommend...  \n"
          ]
        }
      ]
    }
  ]
}
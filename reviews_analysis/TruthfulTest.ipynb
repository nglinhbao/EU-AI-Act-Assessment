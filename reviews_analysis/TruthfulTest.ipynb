{
  "nbformat": 4,
  "nbformat_minor": 0,
  "metadata": {
    "colab": {
      "provenance": [],
      "machine_shape": "hm",
      "gpuType": "A100"
    },
    "kernelspec": {
      "name": "python3",
      "display_name": "Python 3"
    },
    "language_info": {
      "name": "python"
    },
    "accelerator": "GPU"
  },
  "cells": [
    {
      "cell_type": "code",
      "execution_count": 15,
      "metadata": {
        "colab": {
          "base_uri": "https://localhost:8080/"
        },
        "id": "aBCy_-qo4rrn",
        "outputId": "8530e4eb-ed31-4717-f3b3-045e4bad5dc0"
      },
      "outputs": [
        {
          "output_type": "stream",
          "name": "stdout",
          "text": [
            "✅ Done! You can download your final file now:\n"
          ]
        }
      ],
      "source": [
        "# STEP 1: Install dependencies\n",
        "!pip install -q sentence-transformers\n",
        "\n",
        "# STEP 2: Import libraries\n",
        "import pandas as pd\n",
        "from sentence_transformers import SentenceTransformer, util\n",
        "import torch\n",
        "\n",
        "# STEP 3: Upload your CSV file\n",
        "\n",
        "\n",
        "# STEP 4: Load the CSV\n",
        "df = pd.read_csv(\"app_reviews_analysis.csv\")\n",
        "\n",
        "# STEP 5: Load the sentence transformer model\n",
        "model = SentenceTransformer('all-MiniLM-L6-v2')\n",
        "\n",
        "# STEP 6: Compute semantic similarity between App Info Modal and User Review Analysis\n",
        "def compute_similarity(text1, text2):\n",
        "    if pd.isna(text1) or pd.isna(text2):\n",
        "        return 0.0\n",
        "    embedding1 = model.encode(text1, convert_to_tensor=True)\n",
        "    embedding2 = model.encode(text2, convert_to_tensor=True)\n",
        "    similarity = util.pytorch_cos_sim(embedding1, embedding2).item()\n",
        "    return round(similarity, 4)\n",
        "\n",
        "similarities = []\n",
        "recommendations = []\n",
        "\n",
        "for _, row in df.iterrows():\n",
        "    modal = row['App Info Modal']\n",
        "    review = row['User Review Analysis']\n",
        "    sim = compute_similarity(modal, review)\n",
        "    similarities.append(sim)\n",
        "\n",
        "    # Trust decision based on similarity threshold\n",
        "    if sim > 0.7:\n",
        "        recommendations.append(\"Trust Developers\")\n",
        "    else:\n",
        "        recommendations.append(\"Trust Users\")\n",
        "\n",
        "df[\"Semantic Similarity\"] = similarities\n",
        "df[\"Trustworthiness Recommendation\"] = recommendations\n",
        "\n",
        "\n",
        "def filter_difference_analysis(diff_text, decision):\n",
        "    if pd.isna(diff_text):\n",
        "        return diff_text\n",
        "\n",
        "    lines = diff_text.split(\"\\n\")\n",
        "\n",
        "    def is_dev_line(line):\n",
        "        return line.strip().lower().startswith(\"- **developer\")\n",
        "\n",
        "    def is_user_line(line):\n",
        "        return line.strip().lower().startswith(\"- **user\")\n",
        "\n",
        "    if decision == \"Trust Users\":\n",
        "        filtered = [line for line in lines if not is_dev_line(line)]\n",
        "    elif decision == \"Trust Developers\":\n",
        "        filtered = [line for line in lines if not is_user_line(line)]\n",
        "    else:\n",
        "        filtered = lines\n",
        "\n",
        "    return \"\\n\".join(filtered)\n",
        "\n",
        "\n",
        "\n",
        "\n",
        "df[\"Filtered Difference Analysis\"] = [\n",
        "    filter_difference_analysis(row[\"Difference Analysis\"], row[\"Trustworthiness Recommendation\"])\n",
        "    for _, row in df.iterrows()\n",
        "]\n",
        "\n",
        "# STEP 8: Export the updated dataframe\n",
        "df.to_csv(\"app_truthfulness_analysis.csv\", index=False)\n",
        "print(\"✅ Done! You can download your final file now:\")\n",
        "\n",
        "# STEP 9: Enable file download\n",
        "#files.download(\"app_truthfulness_analysis.csv\")\n"
      ]
    },
    {
      "source": [],
      "cell_type": "code",
      "metadata": {
        "id": "hHhb2MCUwEK1"
      },
      "execution_count": null,
      "outputs": []
    }
  ]
}
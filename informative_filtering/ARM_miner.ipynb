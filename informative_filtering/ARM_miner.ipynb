{
  "nbformat": 4,
  "nbformat_minor": 0,
  "metadata": {
    "colab": {
      "provenance": [],
      "gpuType": "T4"
    },
    "kernelspec": {
      "name": "python3",
      "display_name": "Python 3"
    },
    "language_info": {
      "name": "python"
    },
    "accelerator": "GPU"
  },
  "cells": [
    {
      "cell_type": "code",
      "execution_count": 1,
      "metadata": {
        "colab": {
          "base_uri": "https://localhost:8080/"
        },
        "id": "dcXYQCTJwH7d",
        "outputId": "e5d12849-a4a6-4b99-9208-5deab7195448"
      },
      "outputs": [
        {
          "output_type": "stream",
          "name": "stdout",
          "text": [
            "Mounted at /content/drive\n"
          ]
        }
      ],
      "source": [
        "from google.colab import drive\n",
        "drive.mount('/content/drive', force_remount=True)"
      ]
    },
    {
      "cell_type": "code",
      "source": [
        "%cd /content/drive/MyDrive/real_AR_miner"
      ],
      "metadata": {
        "colab": {
          "base_uri": "https://localhost:8080/"
        },
        "id": "-j_Yh1NfE0Rz",
        "outputId": "4fd3d1f1-39c2-43f1-a71e-201f34dac925"
      },
      "execution_count": 2,
      "outputs": [
        {
          "output_type": "stream",
          "name": "stdout",
          "text": [
            "/content/drive/MyDrive/real_AR_miner\n"
          ]
        }
      ]
    },
    {
      "cell_type": "code",
      "source": [
        "!pip install -r requirements.txt"
      ],
      "metadata": {
        "colab": {
          "base_uri": "https://localhost:8080/"
        },
        "id": "EvF-Lje36DRg",
        "outputId": "98517fc4-653b-4697-8139-a7b54b47ca43"
      },
      "execution_count": 3,
      "outputs": [
        {
          "output_type": "stream",
          "name": "stdout",
          "text": [
            "Requirement already satisfied: pandas in /usr/local/lib/python3.11/dist-packages (from -r requirements.txt (line 1)) (2.2.2)\n",
            "Requirement already satisfied: numpy in /usr/local/lib/python3.11/dist-packages (from -r requirements.txt (line 2)) (2.0.2)\n",
            "Requirement already satisfied: scikit-learn in /usr/local/lib/python3.11/dist-packages (from -r requirements.txt (line 3)) (1.6.1)\n",
            "Requirement already satisfied: nltk in /usr/local/lib/python3.11/dist-packages (from -r requirements.txt (line 4)) (3.9.1)\n",
            "Requirement already satisfied: python-dateutil>=2.8.2 in /usr/local/lib/python3.11/dist-packages (from pandas->-r requirements.txt (line 1)) (2.8.2)\n",
            "Requirement already satisfied: pytz>=2020.1 in /usr/local/lib/python3.11/dist-packages (from pandas->-r requirements.txt (line 1)) (2025.2)\n",
            "Requirement already satisfied: tzdata>=2022.7 in /usr/local/lib/python3.11/dist-packages (from pandas->-r requirements.txt (line 1)) (2025.2)\n",
            "Requirement already satisfied: scipy>=1.6.0 in /usr/local/lib/python3.11/dist-packages (from scikit-learn->-r requirements.txt (line 3)) (1.14.1)\n",
            "Requirement already satisfied: joblib>=1.2.0 in /usr/local/lib/python3.11/dist-packages (from scikit-learn->-r requirements.txt (line 3)) (1.4.2)\n",
            "Requirement already satisfied: threadpoolctl>=3.1.0 in /usr/local/lib/python3.11/dist-packages (from scikit-learn->-r requirements.txt (line 3)) (3.6.0)\n",
            "Requirement already satisfied: click in /usr/local/lib/python3.11/dist-packages (from nltk->-r requirements.txt (line 4)) (8.1.8)\n",
            "Requirement already satisfied: regex>=2021.8.3 in /usr/local/lib/python3.11/dist-packages (from nltk->-r requirements.txt (line 4)) (2024.11.6)\n",
            "Requirement already satisfied: tqdm in /usr/local/lib/python3.11/dist-packages (from nltk->-r requirements.txt (line 4)) (4.67.1)\n",
            "Requirement already satisfied: six>=1.5 in /usr/local/lib/python3.11/dist-packages (from python-dateutil>=2.8.2->pandas->-r requirements.txt (line 1)) (1.17.0)\n"
          ]
        }
      ]
    },
    {
      "cell_type": "code",
      "source": [
        "import nltk\n",
        "nltk.download('punkt_tab')"
      ],
      "metadata": {
        "colab": {
          "base_uri": "https://localhost:8080/"
        },
        "id": "u7hQ8mWUHDbM",
        "outputId": "8bcb598e-974e-4fed-c291-d45dc9ca570f"
      },
      "execution_count": 4,
      "outputs": [
        {
          "output_type": "stream",
          "name": "stderr",
          "text": [
            "[nltk_data] Downloading package punkt_tab to /root/nltk_data...\n",
            "[nltk_data]   Unzipping tokenizers/punkt_tab.zip.\n"
          ]
        },
        {
          "output_type": "execute_result",
          "data": {
            "text/plain": [
              "True"
            ]
          },
          "metadata": {},
          "execution_count": 4
        }
      ]
    },
    {
      "cell_type": "code",
      "source": [
        "!python train_model.py"
      ],
      "metadata": {
        "colab": {
          "base_uri": "https://localhost:8080/"
        },
        "id": "dJjGlL9cxwZy",
        "outputId": "b8a23950-51f1-436f-dc6a-b5e574e00855"
      },
      "execution_count": 6,
      "outputs": [
        {
          "output_type": "stream",
          "name": "stdout",
          "text": [
            "[INFO] Starting training process...\n",
            "[INFO] Loading data for app: facebook\n",
            "[DEBUG] Labeled samples: 1000, Unlabeled samples: 104707\n",
            "[INFO] Loading data for app: swiftkey\n",
            "[DEBUG] Labeled samples: 1000, Unlabeled samples: 3282\n",
            "[INFO] Loading data for app: tapfish\n",
            "[DEBUG] Labeled samples: 1000, Unlabeled samples: 3547\n",
            "[INFO] Loading data for app: templerun2\n",
            "[DEBUG] Labeled samples: 1000, Unlabeled samples: 57558\n",
            "[INFO] Preprocessing labeled data...\n",
            "[INFO] Preprocessing unlabeled data...\n",
            "[INFO] Fitting vectorizer on combined data...\n",
            "[INFO] Vectorizing labeled data...\n",
            "[INFO] Training initial classifier on labeled data...\n",
            "[INFO] Starting Expectation-Maximization iterations...\n",
            "[INFO] EM Iteration 1/10\n",
            "[DEBUG] Sample predicted labels (first 10): [1 0 1 1 0 1 1 1 0 0]\n",
            "[DEBUG] Combined data size: (173094, 5000), Labels size: 173094\n",
            "[INFO] Evaluating training accuracy...\n",
            "[RESULT] Training accuracy: 0.8780\n",
            "              precision    recall  f1-score   support\n",
            "\n",
            "           0       0.90      0.92      0.91      2658\n",
            "           1       0.84      0.79      0.81      1342\n",
            "\n",
            "    accuracy                           0.88      4000\n",
            "   macro avg       0.87      0.86      0.86      4000\n",
            "weighted avg       0.88      0.88      0.88      4000\n",
            "\n",
            "[INFO] Training process completed.\n",
            "Model saved to models/ar_miner_model.pkl\n"
          ]
        }
      ]
    },
    {
      "cell_type": "code",
      "source": [
        "!python inference.py"
      ],
      "metadata": {
        "colab": {
          "base_uri": "https://localhost:8080/"
        },
        "id": "5jMWIhl36tYI",
        "outputId": "3941e066-1e84-4c4c-d21a-a19f1c3d07bc"
      },
      "execution_count": 9,
      "outputs": [
        {
          "output_type": "stream",
          "name": "stdout",
          "text": [
            "Running inference at: 2025-04-11 09:43:45\n",
            "Total reviews: 10000\n",
            "Informative reviews: 1782\n",
            "Percentage: 17.82%\n",
            "\n",
            "Sample of informative reviews:\n",
            "                                                                                                content  informative_prob\n",
            "2   the image no load nothing load I can't get out of selecting ages and gender I pressed select lot...          1.000000\n",
            "3   I'm loving it but I wish I could have like a playlist to organize all the ai chats I'm using. Li...          0.592716\n",
            "6   I noticed just recently their are pro bots their amazing only let down not being able to screens...          0.997321\n",
            "9                                                   good app but why i cant open it it keeps backing up          0.977396\n",
            "10  the app is good but for some reason it doesn't let me resubscribe on that Pacific app but I can ...          0.999999\n"
          ]
        }
      ]
    },
    {
      "cell_type": "code",
      "source": [],
      "metadata": {
        "id": "Nj2uSzDXLJmk"
      },
      "execution_count": null,
      "outputs": []
    }
  ]
}